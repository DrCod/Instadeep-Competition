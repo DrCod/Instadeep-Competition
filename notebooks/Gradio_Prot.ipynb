{
  "nbformat": 4,
  "nbformat_minor": 0,
  "metadata": {
    "colab": {
      "name": "Gradio_Prot.ipynb",
      "provenance": []
    },
    "kernelspec": {
      "name": "python3",
      "display_name": "Python 3"
    },
    "accelerator": "GPU"
  },
  "cells": [
    {
      "cell_type": "code",
      "metadata": {
        "colab": {
          "base_uri": "https://localhost:8080/"
        },
        "id": "ywJR1mhPmhGs",
        "outputId": "9b8c63e3-b4aa-47c5-c3a9-c485d76d0a40"
      },
      "source": [
        "from google.colab import drive\r\n",
        "drive.mount(\"/content/drive\")"
      ],
      "execution_count": 1,
      "outputs": [
        {
          "output_type": "stream",
          "text": [
            "Mounted at /content/drive\n"
          ],
          "name": "stdout"
        }
      ]
    },
    {
      "cell_type": "code",
      "metadata": {
        "colab": {
          "base_uri": "https://localhost:8080/"
        },
        "id": "LawmJRMFmIX6",
        "outputId": "c0635492-4bb3-4536-937e-b9e53f4dfaff"
      },
      "source": [
        "!pip install gradio"
      ],
      "execution_count": 2,
      "outputs": [
        {
          "output_type": "stream",
          "text": [
            "Collecting gradio\n",
            "\u001b[?25l  Downloading https://files.pythonhosted.org/packages/78/15/bbd0cf71203bf2eed145291390590b08c7491d3eb43f39bd615d967985fc/gradio-1.5.4-py3-none-any.whl (1.1MB)\n",
            "\r\u001b[K     |▎                               | 10kB 22.7MB/s eta 0:00:01\r\u001b[K     |▋                               | 20kB 16.7MB/s eta 0:00:01\r\u001b[K     |▉                               | 30kB 14.4MB/s eta 0:00:01\r\u001b[K     |█▏                              | 40kB 13.7MB/s eta 0:00:01\r\u001b[K     |█▌                              | 51kB 10.3MB/s eta 0:00:01\r\u001b[K     |█▊                              | 61kB 11.9MB/s eta 0:00:01\r\u001b[K     |██                              | 71kB 10.7MB/s eta 0:00:01\r\u001b[K     |██▎                             | 81kB 11.4MB/s eta 0:00:01\r\u001b[K     |██▋                             | 92kB 11.0MB/s eta 0:00:01\r\u001b[K     |███                             | 102kB 9.9MB/s eta 0:00:01\r\u001b[K     |███▏                            | 112kB 9.9MB/s eta 0:00:01\r\u001b[K     |███▌                            | 122kB 9.9MB/s eta 0:00:01\r\u001b[K     |███▉                            | 133kB 9.9MB/s eta 0:00:01\r\u001b[K     |████                            | 143kB 9.9MB/s eta 0:00:01\r\u001b[K     |████▍                           | 153kB 9.9MB/s eta 0:00:01\r\u001b[K     |████▋                           | 163kB 9.9MB/s eta 0:00:01\r\u001b[K     |█████                           | 174kB 9.9MB/s eta 0:00:01\r\u001b[K     |█████▎                          | 184kB 9.9MB/s eta 0:00:01\r\u001b[K     |█████▌                          | 194kB 9.9MB/s eta 0:00:01\r\u001b[K     |█████▉                          | 204kB 9.9MB/s eta 0:00:01\r\u001b[K     |██████                          | 215kB 9.9MB/s eta 0:00:01\r\u001b[K     |██████▍                         | 225kB 9.9MB/s eta 0:00:01\r\u001b[K     |██████▊                         | 235kB 9.9MB/s eta 0:00:01\r\u001b[K     |███████                         | 245kB 9.9MB/s eta 0:00:01\r\u001b[K     |███████▎                        | 256kB 9.9MB/s eta 0:00:01\r\u001b[K     |███████▋                        | 266kB 9.9MB/s eta 0:00:01\r\u001b[K     |███████▉                        | 276kB 9.9MB/s eta 0:00:01\r\u001b[K     |████████▏                       | 286kB 9.9MB/s eta 0:00:01\r\u001b[K     |████████▍                       | 296kB 9.9MB/s eta 0:00:01\r\u001b[K     |████████▊                       | 307kB 9.9MB/s eta 0:00:01\r\u001b[K     |█████████                       | 317kB 9.9MB/s eta 0:00:01\r\u001b[K     |█████████▎                      | 327kB 9.9MB/s eta 0:00:01\r\u001b[K     |█████████▋                      | 337kB 9.9MB/s eta 0:00:01\r\u001b[K     |██████████                      | 348kB 9.9MB/s eta 0:00:01\r\u001b[K     |██████████▏                     | 358kB 9.9MB/s eta 0:00:01\r\u001b[K     |██████████▌                     | 368kB 9.9MB/s eta 0:00:01\r\u001b[K     |██████████▊                     | 378kB 9.9MB/s eta 0:00:01\r\u001b[K     |███████████                     | 389kB 9.9MB/s eta 0:00:01\r\u001b[K     |███████████▍                    | 399kB 9.9MB/s eta 0:00:01\r\u001b[K     |███████████▋                    | 409kB 9.9MB/s eta 0:00:01\r\u001b[K     |████████████                    | 419kB 9.9MB/s eta 0:00:01\r\u001b[K     |████████████▏                   | 430kB 9.9MB/s eta 0:00:01\r\u001b[K     |████████████▌                   | 440kB 9.9MB/s eta 0:00:01\r\u001b[K     |████████████▉                   | 450kB 9.9MB/s eta 0:00:01\r\u001b[K     |█████████████                   | 460kB 9.9MB/s eta 0:00:01\r\u001b[K     |█████████████▍                  | 471kB 9.9MB/s eta 0:00:01\r\u001b[K     |█████████████▊                  | 481kB 9.9MB/s eta 0:00:01\r\u001b[K     |██████████████                  | 491kB 9.9MB/s eta 0:00:01\r\u001b[K     |██████████████▎                 | 501kB 9.9MB/s eta 0:00:01\r\u001b[K     |██████████████▌                 | 512kB 9.9MB/s eta 0:00:01\r\u001b[K     |██████████████▉                 | 522kB 9.9MB/s eta 0:00:01\r\u001b[K     |███████████████▏                | 532kB 9.9MB/s eta 0:00:01\r\u001b[K     |███████████████▍                | 542kB 9.9MB/s eta 0:00:01\r\u001b[K     |███████████████▊                | 552kB 9.9MB/s eta 0:00:01\r\u001b[K     |████████████████                | 563kB 9.9MB/s eta 0:00:01\r\u001b[K     |████████████████▎               | 573kB 9.9MB/s eta 0:00:01\r\u001b[K     |████████████████▋               | 583kB 9.9MB/s eta 0:00:01\r\u001b[K     |████████████████▉               | 593kB 9.9MB/s eta 0:00:01\r\u001b[K     |█████████████████▏              | 604kB 9.9MB/s eta 0:00:01\r\u001b[K     |█████████████████▌              | 614kB 9.9MB/s eta 0:00:01\r\u001b[K     |█████████████████▊              | 624kB 9.9MB/s eta 0:00:01\r\u001b[K     |██████████████████              | 634kB 9.9MB/s eta 0:00:01\r\u001b[K     |██████████████████▎             | 645kB 9.9MB/s eta 0:00:01\r\u001b[K     |██████████████████▋             | 655kB 9.9MB/s eta 0:00:01\r\u001b[K     |███████████████████             | 665kB 9.9MB/s eta 0:00:01\r\u001b[K     |███████████████████▏            | 675kB 9.9MB/s eta 0:00:01\r\u001b[K     |███████████████████▌            | 686kB 9.9MB/s eta 0:00:01\r\u001b[K     |███████████████████▉            | 696kB 9.9MB/s eta 0:00:01\r\u001b[K     |████████████████████            | 706kB 9.9MB/s eta 0:00:01\r\u001b[K     |████████████████████▍           | 716kB 9.9MB/s eta 0:00:01\r\u001b[K     |████████████████████▋           | 727kB 9.9MB/s eta 0:00:01\r\u001b[K     |█████████████████████           | 737kB 9.9MB/s eta 0:00:01\r\u001b[K     |█████████████████████▎          | 747kB 9.9MB/s eta 0:00:01\r\u001b[K     |█████████████████████▌          | 757kB 9.9MB/s eta 0:00:01\r\u001b[K     |█████████████████████▉          | 768kB 9.9MB/s eta 0:00:01\r\u001b[K     |██████████████████████          | 778kB 9.9MB/s eta 0:00:01\r\u001b[K     |██████████████████████▍         | 788kB 9.9MB/s eta 0:00:01\r\u001b[K     |██████████████████████▊         | 798kB 9.9MB/s eta 0:00:01\r\u001b[K     |███████████████████████         | 808kB 9.9MB/s eta 0:00:01\r\u001b[K     |███████████████████████▎        | 819kB 9.9MB/s eta 0:00:01\r\u001b[K     |███████████████████████▋        | 829kB 9.9MB/s eta 0:00:01\r\u001b[K     |███████████████████████▉        | 839kB 9.9MB/s eta 0:00:01\r\u001b[K     |████████████████████████▏       | 849kB 9.9MB/s eta 0:00:01\r\u001b[K     |████████████████████████▍       | 860kB 9.9MB/s eta 0:00:01\r\u001b[K     |████████████████████████▊       | 870kB 9.9MB/s eta 0:00:01\r\u001b[K     |█████████████████████████       | 880kB 9.9MB/s eta 0:00:01\r\u001b[K     |█████████████████████████▎      | 890kB 9.9MB/s eta 0:00:01\r\u001b[K     |█████████████████████████▋      | 901kB 9.9MB/s eta 0:00:01\r\u001b[K     |██████████████████████████      | 911kB 9.9MB/s eta 0:00:01\r\u001b[K     |██████████████████████████▏     | 921kB 9.9MB/s eta 0:00:01\r\u001b[K     |██████████████████████████▌     | 931kB 9.9MB/s eta 0:00:01\r\u001b[K     |██████████████████████████▊     | 942kB 9.9MB/s eta 0:00:01\r\u001b[K     |███████████████████████████     | 952kB 9.9MB/s eta 0:00:01\r\u001b[K     |███████████████████████████▍    | 962kB 9.9MB/s eta 0:00:01\r\u001b[K     |███████████████████████████▋    | 972kB 9.9MB/s eta 0:00:01\r\u001b[K     |████████████████████████████    | 983kB 9.9MB/s eta 0:00:01\r\u001b[K     |████████████████████████████▏   | 993kB 9.9MB/s eta 0:00:01\r\u001b[K     |████████████████████████████▌   | 1.0MB 9.9MB/s eta 0:00:01\r\u001b[K     |████████████████████████████▉   | 1.0MB 9.9MB/s eta 0:00:01\r\u001b[K     |█████████████████████████████   | 1.0MB 9.9MB/s eta 0:00:01\r\u001b[K     |█████████████████████████████▍  | 1.0MB 9.9MB/s eta 0:00:01\r\u001b[K     |█████████████████████████████▊  | 1.0MB 9.9MB/s eta 0:00:01\r\u001b[K     |██████████████████████████████  | 1.1MB 9.9MB/s eta 0:00:01\r\u001b[K     |██████████████████████████████▎ | 1.1MB 9.9MB/s eta 0:00:01\r\u001b[K     |██████████████████████████████▌ | 1.1MB 9.9MB/s eta 0:00:01\r\u001b[K     |██████████████████████████████▉ | 1.1MB 9.9MB/s eta 0:00:01\r\u001b[K     |███████████████████████████████▏| 1.1MB 9.9MB/s eta 0:00:01\r\u001b[K     |███████████████████████████████▍| 1.1MB 9.9MB/s eta 0:00:01\r\u001b[K     |███████████████████████████████▊| 1.1MB 9.9MB/s eta 0:00:01\r\u001b[K     |████████████████████████████████| 1.1MB 9.9MB/s eta 0:00:01\r\u001b[K     |████████████████████████████████| 1.1MB 9.9MB/s \n",
            "\u001b[?25hRequirement already satisfied: scikit-image in /usr/local/lib/python3.7/dist-packages (from gradio) (0.16.2)\n",
            "Collecting Flask-BasicAuth\n",
            "  Downloading https://files.pythonhosted.org/packages/16/18/9726cac3c7cb9e5a1ac4523b3e508128136b37aadb3462c857a19318900e/Flask-BasicAuth-0.2.0.tar.gz\n",
            "Requirement already satisfied: scipy in /usr/local/lib/python3.7/dist-packages (from gradio) (1.4.1)\n",
            "Requirement already satisfied: Flask>=1.1.1 in /usr/local/lib/python3.7/dist-packages (from gradio) (1.1.2)\n",
            "Collecting paramiko\n",
            "\u001b[?25l  Downloading https://files.pythonhosted.org/packages/95/19/124e9287b43e6ff3ebb9cdea3e5e8e88475a873c05ccdf8b7e20d2c4201e/paramiko-2.7.2-py2.py3-none-any.whl (206kB)\n",
            "\u001b[K     |████████████████████████████████| 215kB 36.1MB/s \n",
            "\u001b[?25hCollecting ffmpy\n",
            "  Downloading https://files.pythonhosted.org/packages/bf/e2/947df4b3d666bfdd2b0c6355d215c45d2d40f929451cb29a8a2995b29788/ffmpy-0.3.0.tar.gz\n",
            "Collecting flask-cachebuster\n",
            "  Downloading https://files.pythonhosted.org/packages/74/47/f3e1fedfaad965c81c2f17234636d72f71450f1b4522ca26d2b7eb4a0a74/Flask-CacheBuster-1.0.0.tar.gz\n",
            "Collecting markdown2\n",
            "  Downloading https://files.pythonhosted.org/packages/5d/be/3924cc1c0e12030b5225de2b4521f1dc729730773861475de26be64a0d2b/markdown2-2.4.0-py2.py3-none-any.whl\n",
            "Requirement already satisfied: IPython in /usr/local/lib/python3.7/dist-packages (from gradio) (5.5.0)\n",
            "Collecting analytics-python\n",
            "  Downloading https://files.pythonhosted.org/packages/d3/37/c49d052f88655cd96445c36979fb63f69ef859e167eaff5706ca7c8a8ee3/analytics_python-1.2.9-py2.py3-none-any.whl\n",
            "Requirement already satisfied: requests in /usr/local/lib/python3.7/dist-packages (from gradio) (2.23.0)\n",
            "Requirement already satisfied: numpy in /usr/local/lib/python3.7/dist-packages (from gradio) (1.19.5)\n",
            "Requirement already satisfied: pandas in /usr/local/lib/python3.7/dist-packages (from gradio) (1.1.5)\n",
            "Collecting Flask-Cors>=3.0.8\n",
            "  Downloading https://files.pythonhosted.org/packages/db/84/901e700de86604b1c4ef4b57110d4e947c218b9997adf5d38fa7da493bce/Flask_Cors-3.0.10-py2.py3-none-any.whl\n",
            "Requirement already satisfied: matplotlib!=3.0.0,>=2.0.0 in /usr/local/lib/python3.7/dist-packages (from scikit-image->gradio) (3.2.2)\n",
            "Requirement already satisfied: pillow>=4.3.0 in /usr/local/lib/python3.7/dist-packages (from scikit-image->gradio) (7.0.0)\n",
            "Requirement already satisfied: imageio>=2.3.0 in /usr/local/lib/python3.7/dist-packages (from scikit-image->gradio) (2.4.1)\n",
            "Requirement already satisfied: PyWavelets>=0.4.0 in /usr/local/lib/python3.7/dist-packages (from scikit-image->gradio) (1.1.1)\n",
            "Requirement already satisfied: networkx>=2.0 in /usr/local/lib/python3.7/dist-packages (from scikit-image->gradio) (2.5)\n",
            "Requirement already satisfied: itsdangerous>=0.24 in /usr/local/lib/python3.7/dist-packages (from Flask>=1.1.1->gradio) (1.1.0)\n",
            "Requirement already satisfied: Werkzeug>=0.15 in /usr/local/lib/python3.7/dist-packages (from Flask>=1.1.1->gradio) (1.0.1)\n",
            "Requirement already satisfied: click>=5.1 in /usr/local/lib/python3.7/dist-packages (from Flask>=1.1.1->gradio) (7.1.2)\n",
            "Requirement already satisfied: Jinja2>=2.10.1 in /usr/local/lib/python3.7/dist-packages (from Flask>=1.1.1->gradio) (2.11.3)\n",
            "Collecting bcrypt>=3.1.3\n",
            "\u001b[?25l  Downloading https://files.pythonhosted.org/packages/26/70/6d218afbe4c73538053c1016dd631e8f25fffc10cd01f5c272d7acf3c03d/bcrypt-3.2.0-cp36-abi3-manylinux2010_x86_64.whl (63kB)\n",
            "\u001b[K     |████████████████████████████████| 71kB 12.1MB/s \n",
            "\u001b[?25hCollecting pynacl>=1.0.1\n",
            "\u001b[?25l  Downloading https://files.pythonhosted.org/packages/9d/57/2f5e6226a674b2bcb6db531e8b383079b678df5b10cdaa610d6cf20d77ba/PyNaCl-1.4.0-cp35-abi3-manylinux1_x86_64.whl (961kB)\n",
            "\u001b[K     |████████████████████████████████| 962kB 34.7MB/s \n",
            "\u001b[?25hCollecting cryptography>=2.5\n",
            "\u001b[?25l  Downloading https://files.pythonhosted.org/packages/f8/1f/acde6ff69864c5e78b56488e3afd93c1ccc8c2651186e2a5f93d93f64859/cryptography-3.4.6-cp36-abi3-manylinux2014_x86_64.whl (3.2MB)\n",
            "\u001b[K     |████████████████████████████████| 3.2MB 47.9MB/s \n",
            "\u001b[?25hRequirement already satisfied: prompt-toolkit<2.0.0,>=1.0.4 in /usr/local/lib/python3.7/dist-packages (from IPython->gradio) (1.0.18)\n",
            "Requirement already satisfied: pexpect; sys_platform != \"win32\" in /usr/local/lib/python3.7/dist-packages (from IPython->gradio) (4.8.0)\n",
            "Requirement already satisfied: simplegeneric>0.8 in /usr/local/lib/python3.7/dist-packages (from IPython->gradio) (0.8.1)\n",
            "Requirement already satisfied: decorator in /usr/local/lib/python3.7/dist-packages (from IPython->gradio) (4.4.2)\n",
            "Requirement already satisfied: setuptools>=18.5 in /usr/local/lib/python3.7/dist-packages (from IPython->gradio) (53.0.0)\n",
            "Requirement already satisfied: traitlets>=4.2 in /usr/local/lib/python3.7/dist-packages (from IPython->gradio) (5.0.5)\n",
            "Requirement already satisfied: pygments in /usr/local/lib/python3.7/dist-packages (from IPython->gradio) (2.6.1)\n",
            "Requirement already satisfied: pickleshare in /usr/local/lib/python3.7/dist-packages (from IPython->gradio) (0.7.5)\n",
            "Requirement already satisfied: python-dateutil>2.1 in /usr/local/lib/python3.7/dist-packages (from analytics-python->gradio) (2.8.1)\n",
            "Requirement already satisfied: six>=1.5 in /usr/local/lib/python3.7/dist-packages (from analytics-python->gradio) (1.15.0)\n",
            "Requirement already satisfied: urllib3!=1.25.0,!=1.25.1,<1.26,>=1.21.1 in /usr/local/lib/python3.7/dist-packages (from requests->gradio) (1.24.3)\n",
            "Requirement already satisfied: chardet<4,>=3.0.2 in /usr/local/lib/python3.7/dist-packages (from requests->gradio) (3.0.4)\n",
            "Requirement already satisfied: certifi>=2017.4.17 in /usr/local/lib/python3.7/dist-packages (from requests->gradio) (2020.12.5)\n",
            "Requirement already satisfied: idna<3,>=2.5 in /usr/local/lib/python3.7/dist-packages (from requests->gradio) (2.10)\n",
            "Requirement already satisfied: pytz>=2017.2 in /usr/local/lib/python3.7/dist-packages (from pandas->gradio) (2018.9)\n",
            "Requirement already satisfied: cycler>=0.10 in /usr/local/lib/python3.7/dist-packages (from matplotlib!=3.0.0,>=2.0.0->scikit-image->gradio) (0.10.0)\n",
            "Requirement already satisfied: kiwisolver>=1.0.1 in /usr/local/lib/python3.7/dist-packages (from matplotlib!=3.0.0,>=2.0.0->scikit-image->gradio) (1.3.1)\n",
            "Requirement already satisfied: pyparsing!=2.0.4,!=2.1.2,!=2.1.6,>=2.0.1 in /usr/local/lib/python3.7/dist-packages (from matplotlib!=3.0.0,>=2.0.0->scikit-image->gradio) (2.4.7)\n",
            "Requirement already satisfied: MarkupSafe>=0.23 in /usr/local/lib/python3.7/dist-packages (from Jinja2>=2.10.1->Flask>=1.1.1->gradio) (1.1.1)\n",
            "Requirement already satisfied: cffi>=1.1 in /usr/local/lib/python3.7/dist-packages (from bcrypt>=3.1.3->paramiko->gradio) (1.14.5)\n",
            "Requirement already satisfied: wcwidth in /usr/local/lib/python3.7/dist-packages (from prompt-toolkit<2.0.0,>=1.0.4->IPython->gradio) (0.2.5)\n",
            "Requirement already satisfied: ptyprocess>=0.5 in /usr/local/lib/python3.7/dist-packages (from pexpect; sys_platform != \"win32\"->IPython->gradio) (0.7.0)\n",
            "Requirement already satisfied: ipython-genutils in /usr/local/lib/python3.7/dist-packages (from traitlets>=4.2->IPython->gradio) (0.2.0)\n",
            "Requirement already satisfied: pycparser in /usr/local/lib/python3.7/dist-packages (from cffi>=1.1->bcrypt>=3.1.3->paramiko->gradio) (2.20)\n",
            "Building wheels for collected packages: Flask-BasicAuth, ffmpy, flask-cachebuster\n",
            "  Building wheel for Flask-BasicAuth (setup.py) ... \u001b[?25l\u001b[?25hdone\n",
            "  Created wheel for Flask-BasicAuth: filename=Flask_BasicAuth-0.2.0-cp37-none-any.whl size=4232 sha256=a2e4f0e257d2a4a0142727da63eef3561a2fcb4e6d5fe12d2451a98060f7318f\n",
            "  Stored in directory: /root/.cache/pip/wheels/8a/d5/8c/1f40bffc038e6ab2865836cc303e312e16de7b6b577be16b25\n",
            "  Building wheel for ffmpy (setup.py) ... \u001b[?25l\u001b[?25hdone\n",
            "  Created wheel for ffmpy: filename=ffmpy-0.3.0-cp37-none-any.whl size=4710 sha256=c05652d955081c5e4bbfd84622d75f261713ce64610a65ddb08cba92c2a767eb\n",
            "  Stored in directory: /root/.cache/pip/wheels/cc/ac/c4/bef572cb7e52bfca170046f567e64858632daf77e0f34e5a74\n",
            "  Building wheel for flask-cachebuster (setup.py) ... \u001b[?25l\u001b[?25hdone\n",
            "  Created wheel for flask-cachebuster: filename=Flask_CacheBuster-1.0.0-cp37-none-any.whl size=3372 sha256=2b5ab6a01f004c1480885be03acbda14d18fb42e3cb0df4358157a7ebb644bda\n",
            "  Stored in directory: /root/.cache/pip/wheels/9f/fc/a7/ab5712c3ace9a8f97276465cc2937316ab8063c1fea488ea77\n",
            "Successfully built Flask-BasicAuth ffmpy flask-cachebuster\n",
            "Installing collected packages: Flask-BasicAuth, bcrypt, pynacl, cryptography, paramiko, ffmpy, flask-cachebuster, markdown2, analytics-python, Flask-Cors, gradio\n",
            "Successfully installed Flask-BasicAuth-0.2.0 Flask-Cors-3.0.10 analytics-python-1.2.9 bcrypt-3.2.0 cryptography-3.4.6 ffmpy-0.3.0 flask-cachebuster-1.0.0 gradio-1.5.4 markdown2-2.4.0 paramiko-2.7.2 pynacl-1.4.0\n"
          ],
          "name": "stdout"
        }
      ]
    },
    {
      "cell_type": "code",
      "metadata": {
        "colab": {
          "base_uri": "https://localhost:8080/",
          "height": 640
        },
        "id": "gSFncEq1mQWd",
        "outputId": "6a38a93c-ec9e-4bf3-e37b-f8f45e51e6a2"
      },
      "source": [
        "import gradio as gr\r\n",
        "import pandas as pd\r\n",
        "import numpy as np\r\n",
        "import pickle\r\n",
        "\r\n",
        "import tensorflow as tf\r\n",
        "\r\n",
        "\r\n",
        "fold = 5\r\n",
        "num_classes = 20\r\n",
        "\r\n",
        "with open('drive/MyDrive/ProtSeq_pred/models/tokenizerndr.pickle', 'rb') as handle:\r\n",
        "  tokenizer = pickle.load(handle)\r\n",
        "#for i in range(fold):\r\n",
        "model = [tf.keras.models.load_model(f\"drive/MyDrive/ProtSeq_pred/models/model{i}.h5\") for i in range(fold)]\r\n",
        "\r\n",
        "def seq_pred(sequence):\r\n",
        "  # Inference \r\n",
        "\r\n",
        "  data = [sequence]\r\n",
        "  xtest = tokenizer.texts_to_sequences(data)\r\n",
        "  xtest = tf.keras.preprocessing.sequence.pad_sequences(xtest,padding='post',\r\n",
        "                                        truncating='post',maxlen=300)\r\n",
        "  final_preds = []                                    \r\n",
        "  for i in range(fold):\r\n",
        "    loaded_model = model[i]\r\n",
        "    preds = loaded_model.predict(xtest)\r\n",
        "    final_preds.append(preds)\r\n",
        "\r\n",
        "  pred_0 = np.concatenate(final_preds,axis=0)\r\n",
        "  n_pred = np.reshape(pred_0,(fold,len(data),num_classes))\r\n",
        "  avg = np.mean(n_pred,axis=0)\r\n",
        "  idx2class = {0:'class0',1:'class1',2:'class10',3:'class11',4:'class12',5:'class13',6:'class14',7:'class15',\r\n",
        "             8:'class16',9:'class17',10:'class18',11:'class19',12:'class2',13:'class3',\r\n",
        "             14:'class4',15:'class5',16:'class6',17:'class7',18:'class8',19:'class9'}\r\n",
        "  #y_classes = np.argmax(avg,axis=1)\r\n",
        "  #final = idx2class[y_classes.item()]\r\n",
        "  final_predictions = np.concatenate(avg,axis=0)\r\n",
        "  return {idx2class[i]: float(final_predictions[i]) for i in range(num_classes)}\r\n",
        "\r\n",
        "iface = gr.Interface(fn=seq_pred, inputs=gr.inputs.Textbox(placeholder=\"Enter Protein sentence here...\"), outputs=gr.outputs.Label(num_top_classes=3))\r\n",
        "iface.launch()"
      ],
      "execution_count": 3,
      "outputs": [
        {
          "output_type": "stream",
          "text": [
            "Colab notebook detected. To show errors in colab notebook, set `debug=True` in `launch()`\n",
            "This share link will expire in 24 hours. If you need a permanent link, visit: https://gradio.app/introducing-hosted (NEW!)\n",
            "Running on External URL: https://10317.gradio.app\n",
            "Interface loading below...\n"
          ],
          "name": "stdout"
        },
        {
          "output_type": "display_data",
          "data": {
            "text/html": [
              "\n",
              "        <iframe\n",
              "            width=\"1000\"\n",
              "            height=\"500\"\n",
              "            src=\"https://10317.gradio.app\"\n",
              "            frameborder=\"0\"\n",
              "            allowfullscreen\n",
              "        ></iframe>\n",
              "        "
            ],
            "text/plain": [
              "<IPython.lib.display.IFrame at 0x7fe86bfae310>"
            ]
          },
          "metadata": {
            "tags": []
          }
        },
        {
          "output_type": "execute_result",
          "data": {
            "text/plain": [
              "(<Flask 'gradio.networking'>,\n",
              " 'http://127.0.0.1:7860/',\n",
              " 'https://10317.gradio.app')"
            ]
          },
          "metadata": {
            "tags": []
          },
          "execution_count": 3
        }
      ]
    },
    {
      "cell_type": "code",
      "metadata": {
        "id": "ULyd00MrmxLV"
      },
      "source": [
        ""
      ],
      "execution_count": null,
      "outputs": []
    }
  ]
}